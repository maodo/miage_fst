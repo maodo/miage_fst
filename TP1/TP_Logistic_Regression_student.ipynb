{
 "cells": [
  {
   "cell_type": "code",
   "execution_count": 1,
   "metadata": {},
   "outputs": [],
   "source": [
    "import numpy as np\n",
    "import pandas as pd\n",
    "import matplotlib.pyplot as plt\n",
    "import matplotlib\n",
    "from sklearn.model_selection import train_test_split\n",
    "from sklearn.linear_model import LogisticRegression\n",
    "import math\n",
    "import random\n",
    "from random import uniform\n",
    "from sklearn import preprocessing\n",
    "from sklearn.preprocessing import PolynomialFeatures"
   ]
  },
  {
   "attachments": {},
   "cell_type": "markdown",
   "metadata": {},
   "source": [
    "# Exercice 1 : Binary classification using logistic regression"
   ]
  },
  {
   "attachments": {},
   "cell_type": "markdown",
   "metadata": {},
   "source": [
    "## Load data and inspection of the data"
   ]
  },
  {
   "cell_type": "code",
   "execution_count": 2,
   "metadata": {},
   "outputs": [],
   "source": [
    "# We will load the data that is in the file 'donnees_exo1.txt'\n",
    "data = pd.read_csv('donnees_exo1.txt', sep = ' ')"
   ]
  },
  {
   "cell_type": "code",
   "execution_count": 3,
   "metadata": {},
   "outputs": [
    {
     "data": {
      "text/html": [
       "<div>\n",
       "<style scoped>\n",
       "    .dataframe tbody tr th:only-of-type {\n",
       "        vertical-align: middle;\n",
       "    }\n",
       "\n",
       "    .dataframe tbody tr th {\n",
       "        vertical-align: top;\n",
       "    }\n",
       "\n",
       "    .dataframe thead th {\n",
       "        text-align: right;\n",
       "    }\n",
       "</style>\n",
       "<table border=\"1\" class=\"dataframe\">\n",
       "  <thead>\n",
       "    <tr style=\"text-align: right;\">\n",
       "      <th></th>\n",
       "      <th>X1</th>\n",
       "      <th>X2</th>\n",
       "      <th>Y</th>\n",
       "    </tr>\n",
       "  </thead>\n",
       "  <tbody>\n",
       "    <tr>\n",
       "      <th>0</th>\n",
       "      <td>-0.697580</td>\n",
       "      <td>0.684940</td>\n",
       "      <td>0</td>\n",
       "    </tr>\n",
       "    <tr>\n",
       "      <th>1</th>\n",
       "      <td>-0.478690</td>\n",
       "      <td>0.633770</td>\n",
       "      <td>1</td>\n",
       "    </tr>\n",
       "    <tr>\n",
       "      <th>2</th>\n",
       "      <td>0.057028</td>\n",
       "      <td>0.918860</td>\n",
       "      <td>0</td>\n",
       "    </tr>\n",
       "    <tr>\n",
       "      <th>3</th>\n",
       "      <td>-0.593890</td>\n",
       "      <td>0.494880</td>\n",
       "      <td>0</td>\n",
       "    </tr>\n",
       "    <tr>\n",
       "      <th>4</th>\n",
       "      <td>0.229840</td>\n",
       "      <td>-0.411550</td>\n",
       "      <td>1</td>\n",
       "    </tr>\n",
       "    <tr>\n",
       "      <th>...</th>\n",
       "      <td>...</td>\n",
       "      <td>...</td>\n",
       "      <td>...</td>\n",
       "    </tr>\n",
       "    <tr>\n",
       "      <th>113</th>\n",
       "      <td>0.460250</td>\n",
       "      <td>0.012427</td>\n",
       "      <td>1</td>\n",
       "    </tr>\n",
       "    <tr>\n",
       "      <th>114</th>\n",
       "      <td>-0.046659</td>\n",
       "      <td>0.816520</td>\n",
       "      <td>1</td>\n",
       "    </tr>\n",
       "    <tr>\n",
       "      <th>115</th>\n",
       "      <td>0.322000</td>\n",
       "      <td>0.692250</td>\n",
       "      <td>1</td>\n",
       "    </tr>\n",
       "    <tr>\n",
       "      <th>116</th>\n",
       "      <td>-0.524770</td>\n",
       "      <td>0.209800</td>\n",
       "      <td>1</td>\n",
       "    </tr>\n",
       "    <tr>\n",
       "      <th>117</th>\n",
       "      <td>-0.599650</td>\n",
       "      <td>-0.418860</td>\n",
       "      <td>0</td>\n",
       "    </tr>\n",
       "  </tbody>\n",
       "</table>\n",
       "<p>118 rows × 3 columns</p>\n",
       "</div>"
      ],
      "text/plain": [
       "           X1        X2  Y\n",
       "0   -0.697580  0.684940  0\n",
       "1   -0.478690  0.633770  1\n",
       "2    0.057028  0.918860  0\n",
       "3   -0.593890  0.494880  0\n",
       "4    0.229840 -0.411550  1\n",
       "..        ...       ... ..\n",
       "113  0.460250  0.012427  1\n",
       "114 -0.046659  0.816520  1\n",
       "115  0.322000  0.692250  1\n",
       "116 -0.524770  0.209800  1\n",
       "117 -0.599650 -0.418860  0\n",
       "\n",
       "[118 rows x 3 columns]"
      ]
     },
     "execution_count": 3,
     "metadata": {},
     "output_type": "execute_result"
    }
   ],
   "source": [
    "data"
   ]
  },
  {
   "cell_type": "raw",
   "metadata": {},
   "source": [
    "Questions : How many examples are available in this dataset ? How many features ? What is the distribution of the target variable ?\n",
    "Hint : value_counts can help for the last question"
   ]
  },
  {
   "cell_type": "code",
   "execution_count": 4,
   "metadata": {},
   "outputs": [
    {
     "data": {
      "text/html": [
       "<div>\n",
       "<style scoped>\n",
       "    .dataframe tbody tr th:only-of-type {\n",
       "        vertical-align: middle;\n",
       "    }\n",
       "\n",
       "    .dataframe tbody tr th {\n",
       "        vertical-align: top;\n",
       "    }\n",
       "\n",
       "    .dataframe thead th {\n",
       "        text-align: right;\n",
       "    }\n",
       "</style>\n",
       "<table border=\"1\" class=\"dataframe\">\n",
       "  <thead>\n",
       "    <tr style=\"text-align: right;\">\n",
       "      <th></th>\n",
       "      <th>X1</th>\n",
       "      <th>X2</th>\n",
       "      <th>Y</th>\n",
       "    </tr>\n",
       "  </thead>\n",
       "  <tbody>\n",
       "    <tr>\n",
       "      <th>count</th>\n",
       "      <td>118.000000</td>\n",
       "      <td>118.000000</td>\n",
       "      <td>118.000000</td>\n",
       "    </tr>\n",
       "    <tr>\n",
       "      <th>mean</th>\n",
       "      <td>0.054779</td>\n",
       "      <td>0.183102</td>\n",
       "      <td>0.491525</td>\n",
       "    </tr>\n",
       "    <tr>\n",
       "      <th>std</th>\n",
       "      <td>0.496654</td>\n",
       "      <td>0.519743</td>\n",
       "      <td>0.502060</td>\n",
       "    </tr>\n",
       "    <tr>\n",
       "      <th>min</th>\n",
       "      <td>-0.830070</td>\n",
       "      <td>-0.769740</td>\n",
       "      <td>0.000000</td>\n",
       "    </tr>\n",
       "    <tr>\n",
       "      <th>25%</th>\n",
       "      <td>-0.372120</td>\n",
       "      <td>-0.254385</td>\n",
       "      <td>0.000000</td>\n",
       "    </tr>\n",
       "    <tr>\n",
       "      <th>50%</th>\n",
       "      <td>-0.006336</td>\n",
       "      <td>0.213455</td>\n",
       "      <td>0.000000</td>\n",
       "    </tr>\n",
       "    <tr>\n",
       "      <th>75%</th>\n",
       "      <td>0.478970</td>\n",
       "      <td>0.646563</td>\n",
       "      <td>1.000000</td>\n",
       "    </tr>\n",
       "    <tr>\n",
       "      <th>max</th>\n",
       "      <td>1.070900</td>\n",
       "      <td>1.108900</td>\n",
       "      <td>1.000000</td>\n",
       "    </tr>\n",
       "  </tbody>\n",
       "</table>\n",
       "</div>"
      ],
      "text/plain": [
       "               X1          X2           Y\n",
       "count  118.000000  118.000000  118.000000\n",
       "mean     0.054779    0.183102    0.491525\n",
       "std      0.496654    0.519743    0.502060\n",
       "min     -0.830070   -0.769740    0.000000\n",
       "25%     -0.372120   -0.254385    0.000000\n",
       "50%     -0.006336    0.213455    0.000000\n",
       "75%      0.478970    0.646563    1.000000\n",
       "max      1.070900    1.108900    1.000000"
      ]
     },
     "execution_count": 4,
     "metadata": {},
     "output_type": "execute_result"
    }
   ],
   "source": [
    "data.describe()"
   ]
  },
  {
   "cell_type": "code",
   "execution_count": 5,
   "metadata": {},
   "outputs": [
    {
     "data": {
      "text/plain": [
       "Y\n",
       "0    60\n",
       "1    58\n",
       "dtype: int64"
      ]
     },
     "execution_count": 5,
     "metadata": {},
     "output_type": "execute_result"
    }
   ],
   "source": [
    "# We have 118 examples in the dataset\n",
    "# We have 2 features X1 and X2. \n",
    "data[['Y']].value_counts()"
   ]
  },
  {
   "cell_type": "code",
   "execution_count": null,
   "metadata": {},
   "outputs": [],
   "source": [
    "# Y have 60 zeros and 58 ones"
   ]
  },
  {
   "cell_type": "raw",
   "metadata": {},
   "source": [
    "Question : Plot on the same graph this dataset with different colors depending on the class value.\n",
    "X1 should be on the x-axis, X2 on the y-axis and the points colored depending on the class value (0 or 1)\n",
    "Hint : the scatter function can do the job. Different possibilities for the colors, you can create two sets (one with class 0 and one with class 1), or use colorMaps (look at the documentation), or other possibilities "
   ]
  },
  {
   "cell_type": "code",
   "execution_count": 6,
   "metadata": {},
   "outputs": [],
   "source": [
    "ClassAIndices=np.where(data['Y']==0)\n",
    "ClassAIndices=ClassAIndices[0].tolist()\n",
    "ClassBIndices=np.where(data['Y']==1)\n",
    "ClassBIndices=ClassBIndices[0].tolist()\n",
    "Xs = data.loc[:, ['X1','X2']]\n",
    "ys = data['Y']\n"
   ]
  },
  {
   "cell_type": "code",
   "execution_count": 7,
   "metadata": {},
   "outputs": [],
   "source": [
    "XclassA=Xs.iloc[ClassAIndices,:]\n",
    "XclassB=Xs.iloc[ClassBIndices,:]\n",
    "yclassA=ys.iloc[ClassAIndices]\n",
    "yclassB=ys.iloc[ClassBIndices]"
   ]
  },
  {
   "cell_type": "code",
   "execution_count": 8,
   "metadata": {},
   "outputs": [
    {
     "data": {
      "image/png": "[encoded data removed]",
      "text/plain": [
       "<Figure size 640x480 with 1 Axes>"
      ]
     },
     "metadata": {},
     "output_type": "display_data"
    }
   ],
   "source": [
    "plt.scatter(XclassA[['X1']],XclassA[['X2']], color='blue', marker='x', label='Class 0')\n",
    "plt.scatter(XclassB[['X1']],XclassB[['X2']], color='red', marker='o', label='Class 1') \n",
    "plt.xlabel('X1 feature') \n",
    "plt.ylabel('X2 feature') \n",
    "plt.legend()\n",
    "plt.show() "
   ]
  },
  {
   "cell_type": "code",
   "execution_count": null,
   "metadata": {},
   "outputs": [],
   "source": []
  },
  {
   "attachments": {},
   "cell_type": "markdown",
   "metadata": {},
   "source": [
    "## Train / Validation / Test split"
   ]
  },
  {
   "cell_type": "raw",
   "metadata": {},
   "source": [
    "Question : Split the dataset into 3 sets : train (70%), validation (15%) and test (15%).\n",
    "Hint : you can use the 'train_test_split' function that splits a set in 2 sets with a proportion that you can give as parameter. To split into 3 sets, you'll need to use it twice (be careful about the proportions)"
   ]
  },
  {
   "cell_type": "code",
   "execution_count": 9,
   "metadata": {},
   "outputs": [],
   "source": [
    "data_train, data_test = train_test_split(data, test_size = 0.3, random_state = 4)\n",
    "data_valid, data_test = train_test_split(data_test, test_size = 0.5, random_state = 4)"
   ]
  },
  {
   "cell_type": "raw",
   "metadata": {},
   "source": [
    "Question : Plot on the same graph the train and validation data with different colors for the class values and different markers between train and validation set"
   ]
  },
  {
   "cell_type": "code",
   "execution_count": null,
   "metadata": {},
   "outputs": [],
   "source": []
  },
  {
   "attachments": {},
   "cell_type": "markdown",
   "metadata": {},
   "source": [
    "## Fitting a logistic regression model"
   ]
  },
  {
   "cell_type": "raw",
   "metadata": {},
   "source": [
    "We will now fit a logistic regression model to the training set.\n",
    "For this, we can use the command on the next cell:"
   ]
  },
  {
   "cell_type": "code",
   "execution_count": 138,
   "metadata": {},
   "outputs": [],
   "source": [
    "lr_model = LogisticRegression().fit(X_train, y_train)\n",
    "# Parameters can be added to the 'LogisticRegression' call (we will see this later when we'll need)\n",
    "# 2 parameters are given to the 'fit' function : \n",
    "#  - a dataset containing the features of the examples (here X1 and X2, the 2 first columns of the training set)\n",
    "#  - a vector containing the labels (Y) of the examples (in the same order), 0 or 1 here"
   ]
  },
  {
   "cell_type": "raw",
   "metadata": {},
   "source": [
    "Question : How many parameters should have this model ?\n",
    "Two parameters"
   ]
  },
  {
   "cell_type": "raw",
   "metadata": {},
   "source": [
    "The constant of the model (theta_0 in the slides) can be obtained by the command:"
   ]
  },
  {
   "cell_type": "code",
   "execution_count": 139,
   "metadata": {},
   "outputs": [
    {
     "data": {
      "text/plain": [
       "array([0.16350444])"
      ]
     },
     "execution_count": 139,
     "metadata": {},
     "output_type": "execute_result"
    }
   ],
   "source": [
    "lr_model.intercept_"
   ]
  },
  {
   "cell_type": "raw",
   "metadata": {},
   "source": [
    "The parameters associated to each feature can be obtained by the command:"
   ]
  },
  {
   "cell_type": "code",
   "execution_count": 140,
   "metadata": {},
   "outputs": [
    {
     "data": {
      "text/plain": [
       "array([[-0.44064424, -0.23141185]])"
      ]
     },
     "execution_count": 140,
     "metadata": {},
     "output_type": "execute_result"
    }
   ],
   "source": [
    "lr_model.coef_"
   ]
  },
  {
   "cell_type": "raw",
   "metadata": {},
   "source": [
    "Using the values of the features for the first example of the training set (row 0) and the values of the parameters of the model above, calculate the output that the model should give (using the equation of the logistic regression model).\n",
    "Hint : exponential can be obtained with math.exp()"
   ]
  },
  {
   "cell_type": "code",
   "execution_count": 164,
   "metadata": {},
   "outputs": [],
   "source": [
    "def sigmoid(z):\n",
    "    return 1. / (1 + np.exp(-z))\n",
    "\n",
    "def z(theta, x):\n",
    "    #assert theta.shape[1] == 1\n",
    "    #assert theta.shape[0] == x.shape[1]  # Theta should have as many rows as x has features.\n",
    "    return np.dot(x, theta)\n",
    "def hypothesis(theta, x):\n",
    "    return sigmoid(z(theta, x))"
   ]
  },
  {
   "cell_type": "code",
   "execution_count": 156,
   "metadata": {},
   "outputs": [],
   "source": [
    "theta = np.array([0.16350444,-0.44064424,-0.23141185])\n",
    "x = np.array([1])\n",
    "x = np.append(x,X_train.iloc[0:1,0:2])"
   ]
  },
  {
   "cell_type": "code",
   "execution_count": 160,
   "metadata": {},
   "outputs": [
    {
     "name": "stdout",
     "output_type": "stream",
     "text": [
      "[ 0.16350444 -0.44064424 -0.23141185]\n",
      "[ 1.       -0.046659 -0.57968 ]\n"
     ]
    }
   ],
   "source": [
    "print(theta)\n",
    "print(x)\n",
    "#X_train.iloc[0:1,0:2]"
   ]
  },
  {
   "cell_type": "code",
   "execution_count": 166,
   "metadata": {},
   "outputs": [
    {
     "data": {
      "text/plain": [
       "0.5788877782745471"
      ]
     },
     "execution_count": 166,
     "metadata": {},
     "output_type": "execute_result"
    }
   ],
   "source": [
    "hypothesis(theta,x)"
   ]
  },
  {
   "cell_type": "code",
   "execution_count": 168,
   "metadata": {},
   "outputs": [
    {
     "data": {
      "text/plain": [
       "1"
      ]
     },
     "execution_count": 168,
     "metadata": {},
     "output_type": "execute_result"
    }
   ],
   "source": [
    "X_train.iloc[0:1,0:2]\n",
    "y_train.iloc[60]"
   ]
  },
  {
   "cell_type": "raw",
   "metadata": {},
   "source": [
    "What shoud be the decision made by this model for this example ?\n",
    "The model should classify the given example to class 1"
   ]
  },
  {
   "cell_type": "raw",
   "metadata": {},
   "source": [
    "It is possible to obtain automatically this value by the command:"
   ]
  },
  {
   "cell_type": "code",
   "execution_count": 169,
   "metadata": {},
   "outputs": [
    {
     "data": {
      "text/plain": [
       "array([[0.42111222, 0.57888778]])"
      ]
     },
     "execution_count": 169,
     "metadata": {},
     "output_type": "execute_result"
    }
   ],
   "source": [
    "lr_model.predict_proba(X_train.iloc[0:1,0:2])\n",
    "# actually this command gives you the two probabilities : P(Y = 0 | X1, X2) and P(Y = 1 | X1, X2)\n",
    "# You should obtain the same probability than the one calculated above"
   ]
  },
  {
   "cell_type": "code",
   "execution_count": 171,
   "metadata": {},
   "outputs": [
    {
     "data": {
      "text/plain": [
       "1"
      ]
     },
     "execution_count": 171,
     "metadata": {},
     "output_type": "execute_result"
    }
   ],
   "source": [
    "# The final decision of the model can be obtained by the command:\n",
    "res = lr_model.predict(X_train.iloc[0:1,0:2])\n",
    "res[0]"
   ]
  },
  {
   "cell_type": "raw",
   "metadata": {},
   "source": [
    "Question : Does this model make a good decision for this example ?\n",
    "Yes the model makes a good decision for this example"
   ]
  },
  {
   "cell_type": "raw",
   "metadata": {},
   "source": [
    "The accuracy of a classifier on a dataset (percentage of good prediction made for all the examples of the dataset) can be obtained automatically by the function 'score' applied to a classifier.\n",
    "It needs two 2 parameters : \n",
    " - a dataset containing the examples that we want to predict (their features)\n",
    " - the real class of these examples.\n",
    " Below, you will see how to compute the accuracy of the model 'lr_model' on the training set"
   ]
  },
  {
   "cell_type": "code",
   "execution_count": 172,
   "metadata": {},
   "outputs": [
    {
     "data": {
      "text/plain": [
       "0.6341463414634146"
      ]
     },
     "execution_count": 172,
     "metadata": {},
     "output_type": "execute_result"
    }
   ],
   "source": [
    "lr_model.score(X_train, y_train)"
   ]
  },
  {
   "cell_type": "raw",
   "metadata": {},
   "source": [
    "Question : Compute the accuracy of this model on the validation set "
   ]
  },
  {
   "cell_type": "code",
   "execution_count": 174,
   "metadata": {},
   "outputs": [
    {
     "data": {
      "text/plain": [
       "0.2777777777777778"
      ]
     },
     "execution_count": 174,
     "metadata": {},
     "output_type": "execute_result"
    }
   ],
   "source": [
    "lr_model.score(X_val,y_val)"
   ]
  },
  {
   "attachments": {},
   "cell_type": "markdown",
   "metadata": {},
   "source": [
    "## Visualization of the decision boundary"
   ]
  },
  {
   "cell_type": "raw",
   "metadata": {},
   "source": [
    "The function below allows you to see the decision boundary of a logisic regression model.\n",
    "There are 7 parameters : \n",
    " - model : a logistic regression model already fitted\n",
    " - data : the data points that you want to draw together with the boundary (training set for instance)\n",
    " - deg : the degree of the polynomial features used in the model (1 if it is a classical model). These polynomial features will be discussed later\n",
    " - xmin, xmax, ymin, ymax : the min and max coordinates that you want to be displayed (depends on the data)\n",
    "\n",
    "An example of the use of this function is given after. "
   ]
  },
  {
   "cell_type": "code",
   "execution_count": 182,
   "metadata": {},
   "outputs": [],
   "source": [
    "def draw_boundary(model, data, deg, x_min, x_max, y_min, y_max):\n",
    "    h = 0.05\n",
    "    xx, yy = np.meshgrid(np.arange(x_min, x_max, h), np.arange(y_min, y_max, h))\n",
    "    zz = np.c_[xx.ravel(), yy.ravel()]\n",
    "    zz = pd.DataFrame(zz)\n",
    "    if(deg>1):\n",
    "        poly = PolynomialFeatures(degree = deg)\n",
    "        zz2 = poly.fit_transform(zz)\n",
    "        zz2 = pd.DataFrame(zz2)\n",
    "    else:\n",
    "        zz2 = zz\n",
    "    pred_zz= pd.Series(model.predict(zz2))\n",
    "    color_map = matplotlib.colors.ListedColormap(pd.Series(['blue', 'red']))\n",
    "    fig = plt.figure(figsize=  (8,8))\n",
    "    fig = plt.scatter(zz.iloc[:,0], zz.iloc[:,1], c = pred_zz, cmap = color_map, marker='+')\n",
    "    fig = plt.scatter(data.iloc[:,0], data.iloc[:,1], s = 50, c = data.iloc[:,2], cmap = color_map)\n",
    "    "
   ]
  },
  {
   "cell_type": "code",
   "execution_count": 178,
   "metadata": {},
   "outputs": [
    {
     "data": {
      "text/html": [
       "<div>\n",
       "<style scoped>\n",
       "    .dataframe tbody tr th:only-of-type {\n",
       "        vertical-align: middle;\n",
       "    }\n",
       "\n",
       "    .dataframe tbody tr th {\n",
       "        vertical-align: top;\n",
       "    }\n",
       "\n",
       "    .dataframe thead th {\n",
       "        text-align: right;\n",
       "    }\n",
       "</style>\n",
       "<table border=\"1\" class=\"dataframe\">\n",
       "  <thead>\n",
       "    <tr style=\"text-align: right;\">\n",
       "      <th></th>\n",
       "      <th>X1</th>\n",
       "      <th>X2</th>\n",
       "      <th>Y</th>\n",
       "    </tr>\n",
       "  </thead>\n",
       "  <tbody>\n",
       "    <tr>\n",
       "      <th>60</th>\n",
       "      <td>-0.046659</td>\n",
       "      <td>-0.57968</td>\n",
       "      <td>0</td>\n",
       "    </tr>\n",
       "    <tr>\n",
       "      <th>21</th>\n",
       "      <td>-0.294350</td>\n",
       "      <td>0.77997</td>\n",
       "      <td>1</td>\n",
       "    </tr>\n",
       "    <tr>\n",
       "      <th>72</th>\n",
       "      <td>-0.392280</td>\n",
       "      <td>-0.25804</td>\n",
       "      <td>0</td>\n",
       "    </tr>\n",
       "    <tr>\n",
       "      <th>77</th>\n",
       "      <td>-0.363480</td>\n",
       "      <td>0.31213</td>\n",
       "      <td>1</td>\n",
       "    </tr>\n",
       "    <tr>\n",
       "      <th>114</th>\n",
       "      <td>-0.046659</td>\n",
       "      <td>0.81652</td>\n",
       "      <td>1</td>\n",
       "    </tr>\n",
       "  </tbody>\n",
       "</table>\n",
       "</div>"
      ],
      "text/plain": [
       "           X1       X2  Y\n",
       "60  -0.046659 -0.57968  0\n",
       "21  -0.294350  0.77997  1\n",
       "72  -0.392280 -0.25804  0\n",
       "77  -0.363480  0.31213  1\n",
       "114 -0.046659  0.81652  1"
      ]
     },
     "execution_count": 178,
     "metadata": {},
     "output_type": "execute_result"
    }
   ],
   "source": [
    "train_data = X_train\n",
    "train_data['Y'] = y_train\n",
    "train_data.head()"
   ]
  },
  {
   "cell_type": "code",
   "execution_count": 184,
   "metadata": {},
   "outputs": [
    {
     "name": "stderr",
     "output_type": "stream",
     "text": [
      "/Users/macbookpro/opt/anaconda3/lib/python3.9/site-packages/sklearn/base.py:439: UserWarning: X does not have valid feature names, but LogisticRegression was fitted with feature names\n",
      "  warnings.warn(\n"
     ]
    },
    {
     "data": {
      "image/png": "[encoded data removed]",
      "text/plain": [
       "<Figure size 800x800 with 1 Axes>"
      ]
     },
     "metadata": {},
     "output_type": "display_data"
    }
   ],
   "source": [
    "draw_boundary(lr_model, train_data, deg=1, x_min=-1.2, x_max=1.2,y_min= -1.2,y_max= 1.2)"
   ]
  },
  {
   "cell_type": "raw",
   "metadata": {},
   "source": [
    "Question : What is the type of this decision boundary ? Was it expected ? Does it seem adapted to this dataset ?\n",
    "It's a linear decision boundary\n",
    "Yes it was expected because it's a linear function of degree 1\n",
    "No it does not seem adapted to this dataset"
   ]
  },
  {
   "cell_type": "raw",
   "metadata": {},
   "source": [
    "We will now see how to add polynomial features to the dataset before fitting a linear regression model:"
   ]
  },
  {
   "cell_type": "code",
   "execution_count": 185,
   "metadata": {},
   "outputs": [],
   "source": [
    "poly = PolynomialFeatures(degree = 2) # Here we create an object that will be used to add polynomial features.\n",
    "# The degree of the features can be modified in the parameters\n",
    "X_train2 = poly.fit_transform(train_data.iloc[:,0:2]) # Here we use the 'poly' created above to add polynomial\n",
    "# features of degree 2 to the training set\n",
    "# It creates 4 new columns : \n",
    "# - one with 'ones' everywhere\n",
    "# - one with X1^2\n",
    "# - one with X2^2\n",
    "# - one with X1*X2\n"
   ]
  },
  {
   "cell_type": "raw",
   "metadata": {},
   "source": [
    "Question : Check the dimensions of the new training set created above"
   ]
  },
  {
   "cell_type": "code",
   "execution_count": 189,
   "metadata": {},
   "outputs": [
    {
     "name": "stdout",
     "output_type": "stream",
     "text": [
      "<class 'numpy.ndarray'>\n"
     ]
    },
    {
     "data": {
      "text/plain": [
       "(82, 6)"
      ]
     },
     "execution_count": 189,
     "metadata": {},
     "output_type": "execute_result"
    }
   ],
   "source": [
    "print(type(X_train2))\n",
    "X_train2.shape"
   ]
  },
  {
   "cell_type": "raw",
   "metadata": {},
   "source": [
    "Now we can fit a new logistic regression model using the new training set:"
   ]
  },
  {
   "cell_type": "code",
   "execution_count": 191,
   "metadata": {},
   "outputs": [],
   "source": [
    "lr_model2 = LogisticRegression().fit(X_train2, train_data.Y)\n"
   ]
  },
  {
   "cell_type": "raw",
   "metadata": {},
   "source": [
    "Question : Compute the prediction accuracy of this new model on the training set. Is it better than the first model ? "
   ]
  },
  {
   "cell_type": "code",
   "execution_count": 193,
   "metadata": {},
   "outputs": [
    {
     "data": {
      "text/plain": [
       "0.7926829268292683"
      ]
     },
     "execution_count": 193,
     "metadata": {},
     "output_type": "execute_result"
    }
   ],
   "source": [
    "lr_model2.score(X_train2,train_data.Y)"
   ]
  },
  {
   "cell_type": "raw",
   "metadata": {},
   "source": [
    "Yes this model is better than the first one"
   ]
  },
  {
   "cell_type": "raw",
   "metadata": {},
   "source": [
    "Question : Look at the decision boundary of this new model, using the 'draw_boundary' function. You will need to set the 'deg' parameter to 2"
   ]
  },
  {
   "cell_type": "code",
   "execution_count": 211,
   "metadata": {},
   "outputs": [
    {
     "data": {
      "image/png": "[encoded data removed]",
      "text/plain": [
       "<Figure size 800x800 with 1 Axes>"
      ]
     },
     "metadata": {},
     "output_type": "display_data"
    }
   ],
   "source": [
    "draw_boundary(lr_model2,train_data, deg=2, x_min=-1.2, x_max=1.2,y_min= -1.2,y_max= 1.2)"
   ]
  },
  {
   "cell_type": "code",
   "execution_count": null,
   "metadata": {},
   "outputs": [],
   "source": []
  },
  {
   "cell_type": "raw",
   "metadata": {},
   "source": [
    "Question : Compute the prediction accuracy of this new model on the validation data\n",
    "Hint : You will first need to create a 'new' validation dataset by adding the same polynomial features to the original \n",
    "validation set"
   ]
  },
  {
   "cell_type": "code",
   "execution_count": 215,
   "metadata": {},
   "outputs": [
    {
     "data": {
      "text/html": [
       "<div>\n",
       "<style scoped>\n",
       "    .dataframe tbody tr th:only-of-type {\n",
       "        vertical-align: middle;\n",
       "    }\n",
       "\n",
       "    .dataframe tbody tr th {\n",
       "        vertical-align: top;\n",
       "    }\n",
       "\n",
       "    .dataframe thead th {\n",
       "        text-align: right;\n",
       "    }\n",
       "</style>\n",
       "<table border=\"1\" class=\"dataframe\">\n",
       "  <thead>\n",
       "    <tr style=\"text-align: right;\">\n",
       "      <th></th>\n",
       "      <th>X1</th>\n",
       "      <th>X2</th>\n",
       "      <th>Y</th>\n",
       "    </tr>\n",
       "  </thead>\n",
       "  <tbody>\n",
       "    <tr>\n",
       "      <th>42</th>\n",
       "      <td>-0.23675</td>\n",
       "      <td>-0.63816</td>\n",
       "      <td>0</td>\n",
       "    </tr>\n",
       "    <tr>\n",
       "      <th>31</th>\n",
       "      <td>0.62730</td>\n",
       "      <td>0.15863</td>\n",
       "      <td>1</td>\n",
       "    </tr>\n",
       "    <tr>\n",
       "      <th>59</th>\n",
       "      <td>-0.10426</td>\n",
       "      <td>0.99196</td>\n",
       "      <td>0</td>\n",
       "    </tr>\n",
       "    <tr>\n",
       "      <th>13</th>\n",
       "      <td>0.59274</td>\n",
       "      <td>-0.74050</td>\n",
       "      <td>0</td>\n",
       "    </tr>\n",
       "    <tr>\n",
       "      <th>108</th>\n",
       "      <td>0.57546</td>\n",
       "      <td>0.26827</td>\n",
       "      <td>1</td>\n",
       "    </tr>\n",
       "  </tbody>\n",
       "</table>\n",
       "</div>"
      ],
      "text/plain": [
       "          X1       X2  Y\n",
       "42  -0.23675 -0.63816  0\n",
       "31   0.62730  0.15863  1\n",
       "59  -0.10426  0.99196  0\n",
       "13   0.59274 -0.74050  0\n",
       "108  0.57546  0.26827  1"
      ]
     },
     "execution_count": 215,
     "metadata": {},
     "output_type": "execute_result"
    }
   ],
   "source": [
    "val_data = X_val\n",
    "val_data['Y']=y_val\n",
    "val_data.head()"
   ]
  },
  {
   "cell_type": "code",
   "execution_count": 218,
   "metadata": {},
   "outputs": [],
   "source": [
    "poly = PolynomialFeatures(degree = 2) # Here we create an object that will be used to add polynomial features.\n",
    "# The degree of the features can be modified in the parameters\n",
    "X_val2 = poly.fit_transform(val_data.iloc[:,0:2]) # Here we use the 'poly' created above to add polynomial\n",
    "# features of degree 2 to the training set\n",
    "# It creates 4 new columns : \n",
    "# - one with 'ones' everywhere\n",
    "# - one with X1^2\n",
    "# - one with X2^2\n",
    "# - one with X1*X2"
   ]
  },
  {
   "cell_type": "code",
   "execution_count": 220,
   "metadata": {},
   "outputs": [
    {
     "data": {
      "text/plain": [
       "0.6111111111111112"
      ]
     },
     "execution_count": 220,
     "metadata": {},
     "output_type": "execute_result"
    }
   ],
   "source": [
    "lr_model2.score(X_val2,y_val)"
   ]
  },
  {
   "cell_type": "raw",
   "metadata": {},
   "source": [
    "Question : Try now to add higher degree polynomial features to the dataset, and apply the procedure explained during the CM to select the most adapted model. Estimate its generalization error"
   ]
  },
  {
   "cell_type": "code",
   "execution_count": 221,
   "metadata": {},
   "outputs": [],
   "source": [
    "poly = PolynomialFeatures(degree=3)\n",
    "X_train3 = poly.fit_transform(train_data.iloc[:,0:2]) # Here we use the 'poly' created above to add polynomial"
   ]
  },
  {
   "cell_type": "code",
   "execution_count": 223,
   "metadata": {},
   "outputs": [],
   "source": [
    "lr_model3 = LogisticRegression().fit(X_train3, y_train)"
   ]
  },
  {
   "cell_type": "code",
   "execution_count": 225,
   "metadata": {},
   "outputs": [
    {
     "data": {
      "text/plain": [
       "0.8048780487804879"
      ]
     },
     "execution_count": 225,
     "metadata": {},
     "output_type": "execute_result"
    }
   ],
   "source": [
    "lr_model3.score(X_train3,train_data.Y)"
   ]
  },
  {
   "cell_type": "code",
   "execution_count": 226,
   "metadata": {},
   "outputs": [
    {
     "data": {
      "image/png": "[encoded data removed]",
      "text/plain": [
       "<Figure size 800x800 with 1 Axes>"
      ]
     },
     "metadata": {},
     "output_type": "display_data"
    }
   ],
   "source": [
    "draw_boundary(lr_model3,train_data, deg=3, x_min=-1.2, x_max=1.2,y_min= -1.2,y_max= 1.2)"
   ]
  },
  {
   "cell_type": "code",
   "execution_count": null,
   "metadata": {},
   "outputs": [],
   "source": []
  },
  {
   "cell_type": "code",
   "execution_count": 229,
   "metadata": {},
   "outputs": [
    {
     "data": {
      "text/plain": [
       "0.6111111111111112"
      ]
     },
     "execution_count": 229,
     "metadata": {},
     "output_type": "execute_result"
    }
   ],
   "source": [
    "poly = PolynomialFeatures(degree = 3) # Here we create an object that will be used to add polynomial features.\n",
    "# The degree of the features can be modified in the parameters\n",
    "X_val3 = poly.fit_transform(val_data.iloc[:,0:2]) # Here we use the 'poly' created above to add polynomial\n",
    "# features of degree 2 to the training set\n",
    "# It creates 4 new columns : \n",
    "# - one with 'ones' everywhere\n",
    "# - one with X1^2\n",
    "# - one with X2^2\n",
    "# - one with X1*X2\n",
    "lr_model3.score(X_val3,y_val)"
   ]
  },
  {
   "cell_type": "code",
   "execution_count": null,
   "metadata": {},
   "outputs": [],
   "source": []
  },
  {
   "cell_type": "code",
   "execution_count": 234,
   "metadata": {},
   "outputs": [],
   "source": [
    "#lr_model3.score(X_test, y_test)"
   ]
  },
  {
   "attachments": {},
   "cell_type": "markdown",
   "metadata": {},
   "source": [
    "#  Exercice 2 : Multi-class classification"
   ]
  },
  {
   "cell_type": "raw",
   "metadata": {},
   "source": [
    "In this exercice, we will see how to apply logistic regression for multi-class classification (when the number of possible values for the target is more than 2)"
   ]
  },
  {
   "cell_type": "code",
   "execution_count": 453,
   "metadata": {},
   "outputs": [
    {
     "data": {
      "text/html": [
       "<div>\n",
       "<style scoped>\n",
       "    .dataframe tbody tr th:only-of-type {\n",
       "        vertical-align: middle;\n",
       "    }\n",
       "\n",
       "    .dataframe tbody tr th {\n",
       "        vertical-align: top;\n",
       "    }\n",
       "\n",
       "    .dataframe thead th {\n",
       "        text-align: right;\n",
       "    }\n",
       "</style>\n",
       "<table border=\"1\" class=\"dataframe\">\n",
       "  <thead>\n",
       "    <tr style=\"text-align: right;\">\n",
       "      <th></th>\n",
       "      <th>X1</th>\n",
       "      <th>X2</th>\n",
       "      <th>X3</th>\n",
       "      <th>X4</th>\n",
       "      <th>X5</th>\n",
       "      <th>X6</th>\n",
       "      <th>X7</th>\n",
       "      <th>X8</th>\n",
       "      <th>X9</th>\n",
       "      <th>X10</th>\n",
       "      <th>X11</th>\n",
       "      <th>X12</th>\n",
       "      <th>X13</th>\n",
       "      <th>X14</th>\n",
       "      <th>X15</th>\n",
       "      <th>X16</th>\n",
       "      <th>X17</th>\n",
       "      <th>X18</th>\n",
       "      <th>X19</th>\n",
       "      <th>y</th>\n",
       "    </tr>\n",
       "  </thead>\n",
       "  <tbody>\n",
       "    <tr>\n",
       "      <th>0</th>\n",
       "      <td>218</td>\n",
       "      <td>178</td>\n",
       "      <td>9</td>\n",
       "      <td>0.111111</td>\n",
       "      <td>0.0</td>\n",
       "      <td>0.833333</td>\n",
       "      <td>0.547722</td>\n",
       "      <td>1.111109</td>\n",
       "      <td>0.544331</td>\n",
       "      <td>59.629630</td>\n",
       "      <td>52.444443</td>\n",
       "      <td>75.222220</td>\n",
       "      <td>51.222220</td>\n",
       "      <td>-21.555555</td>\n",
       "      <td>46.777780</td>\n",
       "      <td>-25.222221</td>\n",
       "      <td>75.222220</td>\n",
       "      <td>0.318996</td>\n",
       "      <td>-2.040554</td>\n",
       "      <td>6</td>\n",
       "    </tr>\n",
       "    <tr>\n",
       "      <th>1</th>\n",
       "      <td>113</td>\n",
       "      <td>130</td>\n",
       "      <td>9</td>\n",
       "      <td>0.000000</td>\n",
       "      <td>0.0</td>\n",
       "      <td>0.277778</td>\n",
       "      <td>0.250924</td>\n",
       "      <td>0.333333</td>\n",
       "      <td>0.365148</td>\n",
       "      <td>0.888889</td>\n",
       "      <td>0.000000</td>\n",
       "      <td>2.555556</td>\n",
       "      <td>0.111111</td>\n",
       "      <td>-2.666667</td>\n",
       "      <td>5.000000</td>\n",
       "      <td>-2.333333</td>\n",
       "      <td>2.555556</td>\n",
       "      <td>1.000000</td>\n",
       "      <td>-2.123254</td>\n",
       "      <td>3</td>\n",
       "    </tr>\n",
       "    <tr>\n",
       "      <th>2</th>\n",
       "      <td>202</td>\n",
       "      <td>41</td>\n",
       "      <td>9</td>\n",
       "      <td>0.000000</td>\n",
       "      <td>0.0</td>\n",
       "      <td>0.944448</td>\n",
       "      <td>0.772202</td>\n",
       "      <td>1.111112</td>\n",
       "      <td>1.025597</td>\n",
       "      <td>123.037040</td>\n",
       "      <td>111.888885</td>\n",
       "      <td>139.777790</td>\n",
       "      <td>117.444440</td>\n",
       "      <td>-33.444443</td>\n",
       "      <td>50.222220</td>\n",
       "      <td>-16.777779</td>\n",
       "      <td>139.777790</td>\n",
       "      <td>0.199347</td>\n",
       "      <td>-2.299918</td>\n",
       "      <td>2</td>\n",
       "    </tr>\n",
       "    <tr>\n",
       "      <th>3</th>\n",
       "      <td>32</td>\n",
       "      <td>173</td>\n",
       "      <td>9</td>\n",
       "      <td>0.000000</td>\n",
       "      <td>0.0</td>\n",
       "      <td>1.722222</td>\n",
       "      <td>1.781593</td>\n",
       "      <td>9.000000</td>\n",
       "      <td>6.749488</td>\n",
       "      <td>43.592594</td>\n",
       "      <td>39.555557</td>\n",
       "      <td>52.888890</td>\n",
       "      <td>38.333336</td>\n",
       "      <td>-12.111111</td>\n",
       "      <td>27.888890</td>\n",
       "      <td>-15.777778</td>\n",
       "      <td>52.888890</td>\n",
       "      <td>0.266914</td>\n",
       "      <td>-1.998857</td>\n",
       "      <td>6</td>\n",
       "    </tr>\n",
       "    <tr>\n",
       "      <th>4</th>\n",
       "      <td>61</td>\n",
       "      <td>197</td>\n",
       "      <td>9</td>\n",
       "      <td>0.000000</td>\n",
       "      <td>0.0</td>\n",
       "      <td>1.444444</td>\n",
       "      <td>1.515353</td>\n",
       "      <td>2.611111</td>\n",
       "      <td>1.925463</td>\n",
       "      <td>49.592594</td>\n",
       "      <td>44.222220</td>\n",
       "      <td>61.555557</td>\n",
       "      <td>43.000000</td>\n",
       "      <td>-16.111110</td>\n",
       "      <td>35.888890</td>\n",
       "      <td>-19.777779</td>\n",
       "      <td>61.555557</td>\n",
       "      <td>0.302925</td>\n",
       "      <td>-2.022274</td>\n",
       "      <td>6</td>\n",
       "    </tr>\n",
       "    <tr>\n",
       "      <th>...</th>\n",
       "      <td>...</td>\n",
       "      <td>...</td>\n",
       "      <td>...</td>\n",
       "      <td>...</td>\n",
       "      <td>...</td>\n",
       "      <td>...</td>\n",
       "      <td>...</td>\n",
       "      <td>...</td>\n",
       "      <td>...</td>\n",
       "      <td>...</td>\n",
       "      <td>...</td>\n",
       "      <td>...</td>\n",
       "      <td>...</td>\n",
       "      <td>...</td>\n",
       "      <td>...</td>\n",
       "      <td>...</td>\n",
       "      <td>...</td>\n",
       "      <td>...</td>\n",
       "      <td>...</td>\n",
       "      <td>...</td>\n",
       "    </tr>\n",
       "    <tr>\n",
       "      <th>2305</th>\n",
       "      <td>30</td>\n",
       "      <td>102</td>\n",
       "      <td>9</td>\n",
       "      <td>0.000000</td>\n",
       "      <td>0.0</td>\n",
       "      <td>1.222222</td>\n",
       "      <td>0.118518</td>\n",
       "      <td>1.333333</td>\n",
       "      <td>0.800000</td>\n",
       "      <td>20.259260</td>\n",
       "      <td>20.333334</td>\n",
       "      <td>25.000000</td>\n",
       "      <td>15.444445</td>\n",
       "      <td>0.222222</td>\n",
       "      <td>14.222222</td>\n",
       "      <td>-14.444445</td>\n",
       "      <td>25.000000</td>\n",
       "      <td>0.381059</td>\n",
       "      <td>-1.555097</td>\n",
       "      <td>1</td>\n",
       "    </tr>\n",
       "    <tr>\n",
       "      <th>2306</th>\n",
       "      <td>143</td>\n",
       "      <td>24</td>\n",
       "      <td>9</td>\n",
       "      <td>0.000000</td>\n",
       "      <td>0.0</td>\n",
       "      <td>1.277777</td>\n",
       "      <td>0.907406</td>\n",
       "      <td>0.888888</td>\n",
       "      <td>1.140749</td>\n",
       "      <td>127.629630</td>\n",
       "      <td>117.666664</td>\n",
       "      <td>141.666670</td>\n",
       "      <td>123.555560</td>\n",
       "      <td>-29.888890</td>\n",
       "      <td>42.111110</td>\n",
       "      <td>-12.222222</td>\n",
       "      <td>141.666670</td>\n",
       "      <td>0.169397</td>\n",
       "      <td>-2.349252</td>\n",
       "      <td>2</td>\n",
       "    </tr>\n",
       "    <tr>\n",
       "      <th>2307</th>\n",
       "      <td>80</td>\n",
       "      <td>72</td>\n",
       "      <td>9</td>\n",
       "      <td>0.000000</td>\n",
       "      <td>0.0</td>\n",
       "      <td>1.222223</td>\n",
       "      <td>1.003697</td>\n",
       "      <td>1.444444</td>\n",
       "      <td>1.167461</td>\n",
       "      <td>59.000000</td>\n",
       "      <td>51.333332</td>\n",
       "      <td>74.444440</td>\n",
       "      <td>51.222220</td>\n",
       "      <td>-23.000000</td>\n",
       "      <td>46.333332</td>\n",
       "      <td>-23.333334</td>\n",
       "      <td>74.444440</td>\n",
       "      <td>0.314606</td>\n",
       "      <td>-2.090221</td>\n",
       "      <td>4</td>\n",
       "    </tr>\n",
       "    <tr>\n",
       "      <th>2308</th>\n",
       "      <td>98</td>\n",
       "      <td>133</td>\n",
       "      <td>9</td>\n",
       "      <td>0.000000</td>\n",
       "      <td>0.0</td>\n",
       "      <td>0.555555</td>\n",
       "      <td>0.172133</td>\n",
       "      <td>0.388889</td>\n",
       "      <td>0.327731</td>\n",
       "      <td>0.962963</td>\n",
       "      <td>0.000000</td>\n",
       "      <td>2.777778</td>\n",
       "      <td>0.111111</td>\n",
       "      <td>-2.888889</td>\n",
       "      <td>5.444445</td>\n",
       "      <td>-2.555556</td>\n",
       "      <td>2.777778</td>\n",
       "      <td>1.000000</td>\n",
       "      <td>-2.123254</td>\n",
       "      <td>3</td>\n",
       "    </tr>\n",
       "    <tr>\n",
       "      <th>2309</th>\n",
       "      <td>19</td>\n",
       "      <td>147</td>\n",
       "      <td>9</td>\n",
       "      <td>0.000000</td>\n",
       "      <td>0.0</td>\n",
       "      <td>0.222222</td>\n",
       "      <td>0.074074</td>\n",
       "      <td>0.500000</td>\n",
       "      <td>0.077778</td>\n",
       "      <td>4.148148</td>\n",
       "      <td>3.888889</td>\n",
       "      <td>6.666666</td>\n",
       "      <td>1.888889</td>\n",
       "      <td>-0.777778</td>\n",
       "      <td>7.555555</td>\n",
       "      <td>-6.777778</td>\n",
       "      <td>7.000000</td>\n",
       "      <td>0.713228</td>\n",
       "      <td>-1.475643</td>\n",
       "      <td>1</td>\n",
       "    </tr>\n",
       "  </tbody>\n",
       "</table>\n",
       "<p>2310 rows × 20 columns</p>\n",
       "</div>"
      ],
      "text/plain": [
       "       X1   X2  X3        X4   X5        X6        X7        X8        X9  \\\n",
       "0     218  178   9  0.111111  0.0  0.833333  0.547722  1.111109  0.544331   \n",
       "1     113  130   9  0.000000  0.0  0.277778  0.250924  0.333333  0.365148   \n",
       "2     202   41   9  0.000000  0.0  0.944448  0.772202  1.111112  1.025597   \n",
       "3      32  173   9  0.000000  0.0  1.722222  1.781593  9.000000  6.749488   \n",
       "4      61  197   9  0.000000  0.0  1.444444  1.515353  2.611111  1.925463   \n",
       "...   ...  ...  ..       ...  ...       ...       ...       ...       ...   \n",
       "2305   30  102   9  0.000000  0.0  1.222222  0.118518  1.333333  0.800000   \n",
       "2306  143   24   9  0.000000  0.0  1.277777  0.907406  0.888888  1.140749   \n",
       "2307   80   72   9  0.000000  0.0  1.222223  1.003697  1.444444  1.167461   \n",
       "2308   98  133   9  0.000000  0.0  0.555555  0.172133  0.388889  0.327731   \n",
       "2309   19  147   9  0.000000  0.0  0.222222  0.074074  0.500000  0.077778   \n",
       "\n",
       "             X10         X11         X12         X13        X14        X15  \\\n",
       "0      59.629630   52.444443   75.222220   51.222220 -21.555555  46.777780   \n",
       "1       0.888889    0.000000    2.555556    0.111111  -2.666667   5.000000   \n",
       "2     123.037040  111.888885  139.777790  117.444440 -33.444443  50.222220   \n",
       "3      43.592594   39.555557   52.888890   38.333336 -12.111111  27.888890   \n",
       "4      49.592594   44.222220   61.555557   43.000000 -16.111110  35.888890   \n",
       "...          ...         ...         ...         ...        ...        ...   \n",
       "2305   20.259260   20.333334   25.000000   15.444445   0.222222  14.222222   \n",
       "2306  127.629630  117.666664  141.666670  123.555560 -29.888890  42.111110   \n",
       "2307   59.000000   51.333332   74.444440   51.222220 -23.000000  46.333332   \n",
       "2308    0.962963    0.000000    2.777778    0.111111  -2.888889   5.444445   \n",
       "2309    4.148148    3.888889    6.666666    1.888889  -0.777778   7.555555   \n",
       "\n",
       "            X16         X17       X18       X19  y  \n",
       "0    -25.222221   75.222220  0.318996 -2.040554  6  \n",
       "1     -2.333333    2.555556  1.000000 -2.123254  3  \n",
       "2    -16.777779  139.777790  0.199347 -2.299918  2  \n",
       "3    -15.777778   52.888890  0.266914 -1.998857  6  \n",
       "4    -19.777779   61.555557  0.302925 -2.022274  6  \n",
       "...         ...         ...       ...       ... ..  \n",
       "2305 -14.444445   25.000000  0.381059 -1.555097  1  \n",
       "2306 -12.222222  141.666670  0.169397 -2.349252  2  \n",
       "2307 -23.333334   74.444440  0.314606 -2.090221  4  \n",
       "2308  -2.555556    2.777778  1.000000 -2.123254  3  \n",
       "2309  -6.777778    7.000000  0.713228 -1.475643  1  \n",
       "\n",
       "[2310 rows x 20 columns]"
      ]
     },
     "execution_count": 453,
     "metadata": {},
     "output_type": "execute_result"
    }
   ],
   "source": [
    "# Load the data. \n",
    "segment = pd.read_csv(\"segment.txt\", sep = ' ')\n",
    "segment"
   ]
  },
  {
   "cell_type": "raw",
   "metadata": {},
   "source": [
    "Question : How many features are there in this dataset ? How many examples ? What is the distribution of the target values ? You can find some informations about this dataset on the file segment.dat"
   ]
  },
  {
   "cell_type": "code",
   "execution_count": null,
   "metadata": {},
   "outputs": [],
   "source": []
  },
  {
   "cell_type": "code",
   "execution_count": 536,
   "metadata": {},
   "outputs": [
    {
     "data": {
      "text/html": [
       "<div>\n",
       "<style scoped>\n",
       "    .dataframe tbody tr th:only-of-type {\n",
       "        vertical-align: middle;\n",
       "    }\n",
       "\n",
       "    .dataframe tbody tr th {\n",
       "        vertical-align: top;\n",
       "    }\n",
       "\n",
       "    .dataframe thead th {\n",
       "        text-align: right;\n",
       "    }\n",
       "</style>\n",
       "<table border=\"1\" class=\"dataframe\">\n",
       "  <thead>\n",
       "    <tr style=\"text-align: right;\">\n",
       "      <th></th>\n",
       "      <th>0</th>\n",
       "      <th>1</th>\n",
       "      <th>2</th>\n",
       "      <th>3</th>\n",
       "      <th>4</th>\n",
       "      <th>5</th>\n",
       "      <th>6</th>\n",
       "      <th>7</th>\n",
       "      <th>8</th>\n",
       "      <th>9</th>\n",
       "      <th>10</th>\n",
       "      <th>11</th>\n",
       "      <th>12</th>\n",
       "      <th>13</th>\n",
       "      <th>14</th>\n",
       "      <th>15</th>\n",
       "      <th>16</th>\n",
       "      <th>17</th>\n",
       "      <th>18</th>\n",
       "      <th>y</th>\n",
       "    </tr>\n",
       "  </thead>\n",
       "  <tbody>\n",
       "    <tr>\n",
       "      <th>0</th>\n",
       "      <td>1.276189</td>\n",
       "      <td>0.949736</td>\n",
       "      <td>0.0</td>\n",
       "      <td>2.410668</td>\n",
       "      <td>-0.194552</td>\n",
       "      <td>-0.393061</td>\n",
       "      <td>-0.115120</td>\n",
       "      <td>-0.363952</td>\n",
       "      <td>-0.130944</td>\n",
       "      <td>0.591541</td>\n",
       "      <td>0.560194</td>\n",
       "      <td>0.713137</td>\n",
       "      <td>0.469694</td>\n",
       "      <td>-0.765448</td>\n",
       "      <td>1.296477</td>\n",
       "      <td>-1.429046</td>\n",
       "      <td>0.701072</td>\n",
       "      <td>-0.472692</td>\n",
       "      <td>-0.438613</td>\n",
       "      <td>6</td>\n",
       "    </tr>\n",
       "    <tr>\n",
       "      <th>1</th>\n",
       "      <td>-0.163336</td>\n",
       "      <td>0.114538</td>\n",
       "      <td>0.0</td>\n",
       "      <td>-0.357047</td>\n",
       "      <td>-0.194552</td>\n",
       "      <td>-0.598950</td>\n",
       "      <td>-0.121739</td>\n",
       "      <td>-0.579444</td>\n",
       "      <td>-0.133992</td>\n",
       "      <td>-0.947458</td>\n",
       "      <td>-0.936970</td>\n",
       "      <td>-0.956668</td>\n",
       "      <td>-0.936122</td>\n",
       "      <td>0.865568</td>\n",
       "      <td>-0.838573</td>\n",
       "      <td>0.552826</td>\n",
       "      <td>-0.992297</td>\n",
       "      <td>2.510764</td>\n",
       "      <td>-0.492140</td>\n",
       "      <td>3</td>\n",
       "    </tr>\n",
       "    <tr>\n",
       "      <th>2</th>\n",
       "      <td>1.056833</td>\n",
       "      <td>-1.434058</td>\n",
       "      <td>0.0</td>\n",
       "      <td>-0.357047</td>\n",
       "      <td>-0.194552</td>\n",
       "      <td>-0.351882</td>\n",
       "      <td>-0.110113</td>\n",
       "      <td>-0.363952</td>\n",
       "      <td>-0.122759</td>\n",
       "      <td>2.252806</td>\n",
       "      <td>2.257191</td>\n",
       "      <td>2.196558</td>\n",
       "      <td>2.291143</td>\n",
       "      <td>-1.792029</td>\n",
       "      <td>1.472505</td>\n",
       "      <td>-0.697870</td>\n",
       "      <td>2.205427</td>\n",
       "      <td>-0.996873</td>\n",
       "      <td>-0.606486</td>\n",
       "      <td>2</td>\n",
       "    </tr>\n",
       "    <tr>\n",
       "      <th>3</th>\n",
       "      <td>-1.273827</td>\n",
       "      <td>0.862737</td>\n",
       "      <td>0.0</td>\n",
       "      <td>-0.357047</td>\n",
       "      <td>-0.194552</td>\n",
       "      <td>-0.063639</td>\n",
       "      <td>-0.087601</td>\n",
       "      <td>1.821758</td>\n",
       "      <td>-0.025412</td>\n",
       "      <td>0.171373</td>\n",
       "      <td>0.192247</td>\n",
       "      <td>0.199940</td>\n",
       "      <td>0.115184</td>\n",
       "      <td>0.050060</td>\n",
       "      <td>0.331162</td>\n",
       "      <td>-0.611283</td>\n",
       "      <td>0.180633</td>\n",
       "      <td>-0.700863</td>\n",
       "      <td>-0.411625</td>\n",
       "      <td>6</td>\n",
       "    </tr>\n",
       "    <tr>\n",
       "      <th>4</th>\n",
       "      <td>-0.876244</td>\n",
       "      <td>1.280336</td>\n",
       "      <td>0.0</td>\n",
       "      <td>-0.357047</td>\n",
       "      <td>-0.194552</td>\n",
       "      <td>-0.166583</td>\n",
       "      <td>-0.093539</td>\n",
       "      <td>0.051641</td>\n",
       "      <td>-0.107455</td>\n",
       "      <td>0.328572</td>\n",
       "      <td>0.325469</td>\n",
       "      <td>0.399091</td>\n",
       "      <td>0.243541</td>\n",
       "      <td>-0.295331</td>\n",
       "      <td>0.740001</td>\n",
       "      <td>-0.957630</td>\n",
       "      <td>0.382595</td>\n",
       "      <td>-0.543102</td>\n",
       "      <td>-0.426781</td>\n",
       "      <td>6</td>\n",
       "    </tr>\n",
       "    <tr>\n",
       "      <th>...</th>\n",
       "      <td>...</td>\n",
       "      <td>...</td>\n",
       "      <td>...</td>\n",
       "      <td>...</td>\n",
       "      <td>...</td>\n",
       "      <td>...</td>\n",
       "      <td>...</td>\n",
       "      <td>...</td>\n",
       "      <td>...</td>\n",
       "      <td>...</td>\n",
       "      <td>...</td>\n",
       "      <td>...</td>\n",
       "      <td>...</td>\n",
       "      <td>...</td>\n",
       "      <td>...</td>\n",
       "      <td>...</td>\n",
       "      <td>...</td>\n",
       "      <td>...</td>\n",
       "      <td>...</td>\n",
       "      <td>...</td>\n",
       "    </tr>\n",
       "    <tr>\n",
       "      <th>2305</th>\n",
       "      <td>-1.301246</td>\n",
       "      <td>-0.372660</td>\n",
       "      <td>0.0</td>\n",
       "      <td>-0.357047</td>\n",
       "      <td>-0.194552</td>\n",
       "      <td>-0.248939</td>\n",
       "      <td>-0.124692</td>\n",
       "      <td>-0.302383</td>\n",
       "      <td>-0.126596</td>\n",
       "      <td>-0.439957</td>\n",
       "      <td>-0.356502</td>\n",
       "      <td>-0.440918</td>\n",
       "      <td>-0.514377</td>\n",
       "      <td>1.115018</td>\n",
       "      <td>-0.367272</td>\n",
       "      <td>-0.495834</td>\n",
       "      <td>-0.469268</td>\n",
       "      <td>-0.200795</td>\n",
       "      <td>-0.124401</td>\n",
       "      <td>1</td>\n",
       "    </tr>\n",
       "    <tr>\n",
       "      <th>2306</th>\n",
       "      <td>0.247957</td>\n",
       "      <td>-1.729857</td>\n",
       "      <td>0.0</td>\n",
       "      <td>-0.357047</td>\n",
       "      <td>-0.194552</td>\n",
       "      <td>-0.228350</td>\n",
       "      <td>-0.107098</td>\n",
       "      <td>-0.425521</td>\n",
       "      <td>-0.120801</td>\n",
       "      <td>2.373132</td>\n",
       "      <td>2.422133</td>\n",
       "      <td>2.239963</td>\n",
       "      <td>2.459229</td>\n",
       "      <td>-1.485014</td>\n",
       "      <td>1.057988</td>\n",
       "      <td>-0.303420</td>\n",
       "      <td>2.249444</td>\n",
       "      <td>-1.128082</td>\n",
       "      <td>-0.638417</td>\n",
       "      <td>2</td>\n",
       "    </tr>\n",
       "    <tr>\n",
       "      <th>2307</th>\n",
       "      <td>-0.615758</td>\n",
       "      <td>-0.894659</td>\n",
       "      <td>0.0</td>\n",
       "      <td>-0.357047</td>\n",
       "      <td>-0.194552</td>\n",
       "      <td>-0.248939</td>\n",
       "      <td>-0.104950</td>\n",
       "      <td>-0.271598</td>\n",
       "      <td>-0.120347</td>\n",
       "      <td>0.575045</td>\n",
       "      <td>0.528474</td>\n",
       "      <td>0.695265</td>\n",
       "      <td>0.469694</td>\n",
       "      <td>-0.890173</td>\n",
       "      <td>1.273764</td>\n",
       "      <td>-1.265493</td>\n",
       "      <td>0.682948</td>\n",
       "      <td>-0.491924</td>\n",
       "      <td>-0.470760</td>\n",
       "      <td>4</td>\n",
       "    </tr>\n",
       "    <tr>\n",
       "      <th>2308</th>\n",
       "      <td>-0.368982</td>\n",
       "      <td>0.166738</td>\n",
       "      <td>0.0</td>\n",
       "      <td>-0.357047</td>\n",
       "      <td>-0.194552</td>\n",
       "      <td>-0.496006</td>\n",
       "      <td>-0.123497</td>\n",
       "      <td>-0.564052</td>\n",
       "      <td>-0.134628</td>\n",
       "      <td>-0.945517</td>\n",
       "      <td>-0.936970</td>\n",
       "      <td>-0.951562</td>\n",
       "      <td>-0.936122</td>\n",
       "      <td>0.846380</td>\n",
       "      <td>-0.815860</td>\n",
       "      <td>0.533584</td>\n",
       "      <td>-0.987118</td>\n",
       "      <td>2.510764</td>\n",
       "      <td>-0.492140</td>\n",
       "      <td>3</td>\n",
       "    </tr>\n",
       "    <tr>\n",
       "      <th>2309</th>\n",
       "      <td>-1.452053</td>\n",
       "      <td>0.410338</td>\n",
       "      <td>0.0</td>\n",
       "      <td>-0.357047</td>\n",
       "      <td>-0.194552</td>\n",
       "      <td>-0.619539</td>\n",
       "      <td>-0.125684</td>\n",
       "      <td>-0.533267</td>\n",
       "      <td>-0.138879</td>\n",
       "      <td>-0.862066</td>\n",
       "      <td>-0.825952</td>\n",
       "      <td>-0.862199</td>\n",
       "      <td>-0.887224</td>\n",
       "      <td>1.028670</td>\n",
       "      <td>-0.707972</td>\n",
       "      <td>0.167996</td>\n",
       "      <td>-0.888727</td>\n",
       "      <td>1.254423</td>\n",
       "      <td>-0.072975</td>\n",
       "      <td>1</td>\n",
       "    </tr>\n",
       "  </tbody>\n",
       "</table>\n",
       "<p>2310 rows × 20 columns</p>\n",
       "</div>"
      ],
      "text/plain": [
       "             0         1    2         3         4         5         6  \\\n",
       "0     1.276189  0.949736  0.0  2.410668 -0.194552 -0.393061 -0.115120   \n",
       "1    -0.163336  0.114538  0.0 -0.357047 -0.194552 -0.598950 -0.121739   \n",
       "2     1.056833 -1.434058  0.0 -0.357047 -0.194552 -0.351882 -0.110113   \n",
       "3    -1.273827  0.862737  0.0 -0.357047 -0.194552 -0.063639 -0.087601   \n",
       "4    -0.876244  1.280336  0.0 -0.357047 -0.194552 -0.166583 -0.093539   \n",
       "...        ...       ...  ...       ...       ...       ...       ...   \n",
       "2305 -1.301246 -0.372660  0.0 -0.357047 -0.194552 -0.248939 -0.124692   \n",
       "2306  0.247957 -1.729857  0.0 -0.357047 -0.194552 -0.228350 -0.107098   \n",
       "2307 -0.615758 -0.894659  0.0 -0.357047 -0.194552 -0.248939 -0.104950   \n",
       "2308 -0.368982  0.166738  0.0 -0.357047 -0.194552 -0.496006 -0.123497   \n",
       "2309 -1.452053  0.410338  0.0 -0.357047 -0.194552 -0.619539 -0.125684   \n",
       "\n",
       "             7         8         9        10        11        12        13  \\\n",
       "0    -0.363952 -0.130944  0.591541  0.560194  0.713137  0.469694 -0.765448   \n",
       "1    -0.579444 -0.133992 -0.947458 -0.936970 -0.956668 -0.936122  0.865568   \n",
       "2    -0.363952 -0.122759  2.252806  2.257191  2.196558  2.291143 -1.792029   \n",
       "3     1.821758 -0.025412  0.171373  0.192247  0.199940  0.115184  0.050060   \n",
       "4     0.051641 -0.107455  0.328572  0.325469  0.399091  0.243541 -0.295331   \n",
       "...        ...       ...       ...       ...       ...       ...       ...   \n",
       "2305 -0.302383 -0.126596 -0.439957 -0.356502 -0.440918 -0.514377  1.115018   \n",
       "2306 -0.425521 -0.120801  2.373132  2.422133  2.239963  2.459229 -1.485014   \n",
       "2307 -0.271598 -0.120347  0.575045  0.528474  0.695265  0.469694 -0.890173   \n",
       "2308 -0.564052 -0.134628 -0.945517 -0.936970 -0.951562 -0.936122  0.846380   \n",
       "2309 -0.533267 -0.138879 -0.862066 -0.825952 -0.862199 -0.887224  1.028670   \n",
       "\n",
       "            14        15        16        17        18  y  \n",
       "0     1.296477 -1.429046  0.701072 -0.472692 -0.438613  6  \n",
       "1    -0.838573  0.552826 -0.992297  2.510764 -0.492140  3  \n",
       "2     1.472505 -0.697870  2.205427 -0.996873 -0.606486  2  \n",
       "3     0.331162 -0.611283  0.180633 -0.700863 -0.411625  6  \n",
       "4     0.740001 -0.957630  0.382595 -0.543102 -0.426781  6  \n",
       "...        ...       ...       ...       ...       ... ..  \n",
       "2305 -0.367272 -0.495834 -0.469268 -0.200795 -0.124401  1  \n",
       "2306  1.057988 -0.303420  2.249444 -1.128082 -0.638417  2  \n",
       "2307  1.273764 -1.265493  0.682948 -0.491924 -0.470760  4  \n",
       "2308 -0.815860  0.533584 -0.987118  2.510764 -0.492140  3  \n",
       "2309 -0.707972  0.167996 -0.888727  1.254423 -0.072975  1  \n",
       "\n",
       "[2310 rows x 20 columns]"
      ]
     },
     "execution_count": 536,
     "metadata": {},
     "output_type": "execute_result"
    }
   ],
   "source": [
    "# It is adviced to \"standardize\" the features before applying a logistic regression model. Santardize means\n",
    "# transforming each feature so that the mean of each feature is 0 and the standard deviation 1.\n",
    "# This can be done by the following commands\n",
    "X_segment = segment.iloc[:,0:19] # X_segment contains the features\n",
    "y_segment = segment.y # y_segment contains the class\n",
    "scaler = preprocessing.StandardScaler().fit(X_segment) # Standard Scaler is the command to standardize\n",
    "X_segment = scaler.transform(X_segment)\n",
    "X_segment = pd.DataFrame(X_segment)\n",
    "# Now the features are standardized inside the table X_segment\n",
    "data_segment = X_segment\n",
    "data_segment['y'] = y_segment\n",
    "# data_segment contains the features (standardized) and the class (column 'y')"
   ]
  },
  {
   "cell_type": "raw",
   "metadata": {},
   "source": [
    "Question : Check (for 1 feature of your choice) that its mean is 0 (you can use np.mean)"
   ]
  },
  {
   "cell_type": "code",
   "execution_count": null,
   "metadata": {},
   "outputs": [],
   "source": []
  },
  {
   "cell_type": "raw",
   "metadata": {},
   "source": [
    "Question : Split the dataset into a train, a validation, and a test set"
   ]
  },
  {
   "cell_type": "code",
   "execution_count": null,
   "metadata": {},
   "outputs": [],
   "source": []
  },
  {
   "cell_type": "raw",
   "metadata": {},
   "source": [
    "We will now fit a logistic regression model to the traning set. It is like in exercice 1, but we now need to specify that the problem is multi-class. For that, you need to use multi-class = 'multinomial' inside the call to LogisticRegression:"
   ]
  },
  {
   "cell_type": "code",
   "execution_count": 539,
   "metadata": {},
   "outputs": [
    {
     "name": "stderr",
     "output_type": "stream",
     "text": [
      "/Users/smalinow/opt/anaconda3/lib/python3.7/site-packages/sklearn/linear_model/_logistic.py:764: ConvergenceWarning: lbfgs failed to converge (status=1):\n",
      "STOP: TOTAL NO. of ITERATIONS REACHED LIMIT.\n",
      "\n",
      "Increase the number of iterations (max_iter) or scale the data as shown in:\n",
      "    https://scikit-learn.org/stable/modules/preprocessing.html\n",
      "Please also refer to the documentation for alternative solver options:\n",
      "    https://scikit-learn.org/stable/modules/linear_model.html#logistic-regression\n",
      "  extra_warning_msg=_LOGISTIC_SOLVER_CONVERGENCE_MSG)\n"
     ]
    }
   ],
   "source": [
    "mc_model = LogisticRegression(multi_class='multinomial').fit(train_data.iloc[:,0:19], train_data.y)"
   ]
  },
  {
   "cell_type": "raw",
   "metadata": {},
   "source": [
    "You should have a warning that says 'TOTAL NO. of ITERATIONS REACHED LIMIT'\n",
    "It means that the parameters should not have been learned well beacuse the algorithm has reached the maximum number of iterations without converging. It is possible to imcrease the maximum number of iterations:"
   ]
  },
  {
   "cell_type": "code",
   "execution_count": 545,
   "metadata": {},
   "outputs": [],
   "source": [
    "mc_model = LogisticRegression(multi_class='multinomial', max_iter=1000).fit(train_data.iloc[:,0:19], train_data.y)\n",
    "# Now it should converge"
   ]
  },
  {
   "cell_type": "raw",
   "metadata": {},
   "source": [
    "Question : How many parameters should have this model ?"
   ]
  },
  {
   "cell_type": "raw",
   "metadata": {},
   "source": []
  },
  {
   "cell_type": "raw",
   "metadata": {},
   "source": [
    "Question : Check the number of parameters by looking at their values (same commands as exercice 1)"
   ]
  },
  {
   "cell_type": "code",
   "execution_count": null,
   "metadata": {},
   "outputs": [],
   "source": []
  },
  {
   "cell_type": "raw",
   "metadata": {},
   "source": [
    "Question : How many outputs should have this model ? Check the output values of the model for the first example of the training set using the function predict_proba (as in exercice 1). What should be the decision of the model here ?\n",
    "Check it with the 'predict' function"
   ]
  },
  {
   "cell_type": "code",
   "execution_count": null,
   "metadata": {},
   "outputs": [],
   "source": []
  },
  {
   "cell_type": "code",
   "execution_count": null,
   "metadata": {},
   "outputs": [],
   "source": []
  },
  {
   "cell_type": "raw",
   "metadata": {},
   "source": [
    "What is the prediction accuracy of this model on the train set ? and on the validation set ?"
   ]
  },
  {
   "cell_type": "code",
   "execution_count": null,
   "metadata": {},
   "outputs": [],
   "source": []
  },
  {
   "cell_type": "raw",
   "metadata": {},
   "source": [
    "Question : Using the same procedure as in Exercice 1, try different polynomial features and select the best one.\n",
    "Then, estimate the generalization error of logistic regression on this dataset\n",
    "Don't go over degree 5, otherwise it might be quite long to learn the model (a lot of features)"
   ]
  },
  {
   "cell_type": "code",
   "execution_count": 552,
   "metadata": {},
   "outputs": [],
   "source": [
    "\n"
   ]
  },
  {
   "cell_type": "code",
   "execution_count": null,
   "metadata": {},
   "outputs": [],
   "source": []
  },
  {
   "cell_type": "code",
   "execution_count": null,
   "metadata": {},
   "outputs": [],
   "source": []
  },
  {
   "cell_type": "code",
   "execution_count": null,
   "metadata": {},
   "outputs": [],
   "source": []
  }
 ],
 "metadata": {
  "kernelspec": {
   "display_name": "Python 3",
   "language": "python",
   "name": "python3"
  },
  "language_info": {
   "codemirror_mode": {
    "name": "ipython",
    "version": 3
   },
   "file_extension": ".py",
   "mimetype": "text/x-python",
   "name": "python",
   "nbconvert_exporter": "python",
   "pygments_lexer": "ipython3",
   "version": "3.9.12"
  }
 },
 "nbformat": 4,
 "nbformat_minor": 4
}
